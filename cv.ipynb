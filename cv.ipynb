{
 "cells": [
  {
   "cell_type": "markdown",
   "id": "458d1f21",
   "metadata": {},
   "source": [
    "### Predict number of incoming calls (cagri_count)"
   ]
  },
  {
   "cell_type": "code",
   "execution_count": 1,
   "id": "4833dd5b",
   "metadata": {},
   "outputs": [],
   "source": [
    "import pandas as pd\n",
    "import numpy as np\n",
    "from sklearn.preprocessing import LabelEncoder\n",
    "from sklearn.ensemble import VotingRegressor, StackingRegressor\n",
    "from xgboost import XGBRegressor\n",
    "from lightgbm import LGBMRegressor\n",
    "from catboost import CatBoostRegressor, Pool\n",
    "from sklearn.pipeline import make_pipeline\n",
    "from sklearn.preprocessing import StandardScaler"
   ]
  },
  {
   "cell_type": "code",
   "execution_count": 2,
   "id": "34983d03",
   "metadata": {},
   "outputs": [],
   "source": [
    "train = pd.read_csv('train.csv')\n",
    "test = pd.read_csv('test.csv')"
   ]
  },
  {
   "cell_type": "code",
   "execution_count": 3,
   "id": "3441e1f2",
   "metadata": {},
   "outputs": [],
   "source": [
    "train.drop(['BAŞLAMA_TARİHİ_VE_ZAMANI','SONA_ERME_TARİHİ_VE_ZAMANI','OutageID','KADEME','ŞEBEKE_UNSURU_KODU'], axis=1, inplace=True)\n",
    "test.drop(['BAŞLAMA_TARİHİ_VE_ZAMANI','SONA_ERME_TARİHİ_VE_ZAMANI','OutageID','KADEME','ŞEBEKE_UNSURU_KODU'], axis=1, inplace=True)"
   ]
  },
  {
   "cell_type": "code",
   "execution_count": 4,
   "id": "348939cb",
   "metadata": {},
   "outputs": [],
   "source": [
    "cat_features = list(train.select_dtypes(object).columns)"
   ]
  },
  {
   "cell_type": "code",
   "execution_count": 5,
   "id": "3cb8424a",
   "metadata": {},
   "outputs": [],
   "source": [
    "\n",
    "for cat in cat_features:\n",
    "    train[cat] = train[cat].replace(300,'bilinmeyen')\n",
    "    le = LabelEncoder()\n",
    "    le.fit(train[cat])\n",
    "    train[cat] = le.transform(train[cat])\n",
    "    test[cat] = le.transform(test[cat])"
   ]
  },
  {
   "cell_type": "code",
   "execution_count": 6,
   "id": "6698ae62",
   "metadata": {},
   "outputs": [],
   "source": [
    "from sklearn.model_selection import cross_val_score\n",
    "X = train.drop(['KESİNTİ_NO','cagri_count'], axis=1)\n",
    "y = train['cagri_count']"
   ]
  },
  {
   "cell_type": "code",
   "execution_count": 7,
   "id": "51c8aaf4",
   "metadata": {},
   "outputs": [],
   "source": [
    "\n",
    "\n",
    "estimators = [('lgbm', LGBMRegressor(verbose=-1)), \n",
    "             ('catboost', CatBoostRegressor(verbose=False)),\n",
    "             ('xgboost', XGBRegressor())]\n",
    "\n",
    "model = make_pipeline(StandardScaler(),  StackingRegressor(estimators=estimators))\n",
    "\n",
    "cv_results = cross_val_score(model, X, y, cv=5, scoring='neg_root_mean_squared_error')"
   ]
  },
  {
   "cell_type": "code",
   "execution_count": 11,
   "id": "aae082d8",
   "metadata": {},
   "outputs": [
    {
     "data": {
      "text/plain": [
       "10.892016075501816"
      ]
     },
     "execution_count": 11,
     "metadata": {},
     "output_type": "execute_result"
    }
   ],
   "source": [
    "np.mean(-cv_results)"
   ]
  },
  {
   "cell_type": "code",
   "execution_count": null,
   "id": "541deb48",
   "metadata": {},
   "outputs": [],
   "source": []
  }
 ],
 "metadata": {
  "kernelspec": {
   "display_name": "Python 3 (ipykernel)",
   "language": "python",
   "name": "python3"
  },
  "language_info": {
   "codemirror_mode": {
    "name": "ipython",
    "version": 3
   },
   "file_extension": ".py",
   "mimetype": "text/x-python",
   "name": "python",
   "nbconvert_exporter": "python",
   "pygments_lexer": "ipython3",
   "version": "3.9.7"
  }
 },
 "nbformat": 4,
 "nbformat_minor": 5
}
